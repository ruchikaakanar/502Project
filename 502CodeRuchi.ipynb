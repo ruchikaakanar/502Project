{
 "cells": [
  {
   "cell_type": "code",
   "execution_count": 1,
   "metadata": {},
   "outputs": [],
   "source": [
    "import findspark\n",
    "findspark.init()\n",
    "\n",
    "from pyspark import SparkContext\n",
    "from pyspark.sql import SparkSession\n",
    "\n",
    "sc = SparkContext()\n",
    "\n",
    "spark = SparkSession.builder \\\n",
    "     .appName(\"Test SparkSession\") \\\n",
    "     .getOrCreate()"
   ]
  },
  {
   "cell_type": "code",
   "execution_count": 2,
   "metadata": {},
   "outputs": [],
   "source": [
    "#Reading in the data as a dataframe\n",
    "citibike = spark.read.load(\"s3://502mashagubenko/502Project/FullCitibike\")\n",
    "capital = spark.read.load(\"s3://502mashagubenko/502Project/Capital\")"
   ]
  },
  {
   "cell_type": "code",
   "execution_count": 3,
   "metadata": {},
   "outputs": [
    {
     "data": {
      "text/plain": [
       "1135"
      ]
     },
     "execution_count": 3,
     "metadata": {},
     "output_type": "execute_result"
    }
   ],
   "source": [
    "# Number of stations for citibike\n",
    "citibike.select(\"start_station_id\").distinct().count()\n",
    "citibike.select(\"end_station_id\").distinct().count()"
   ]
  },
  {
   "cell_type": "code",
   "execution_count": 8,
   "metadata": {},
   "outputs": [
    {
     "data": {
      "text/plain": [
       "581"
      ]
     },
     "execution_count": 8,
     "metadata": {},
     "output_type": "execute_result"
    }
   ],
   "source": [
    "# Number of stations for capital\n",
    "capital.select(\"start_station_number\").distinct().count()\n",
    "capital.select(\"end_station_number\").distinct().count()"
   ]
  },
  {
   "cell_type": "code",
   "execution_count": 3,
   "metadata": {},
   "outputs": [
    {
     "name": "stdout",
     "output_type": "stream",
     "text": [
      "root\n",
      " |-- tripduration: integer (nullable = true)\n",
      " |-- starttime: string (nullable = true)\n",
      " |-- stoptime: string (nullable = true)\n",
      " |-- start_station_id: integer (nullable = true)\n",
      " |-- start_station_name: string (nullable = true)\n",
      " |-- start_station_latitude: string (nullable = true)\n",
      " |-- start_station_longitude: string (nullable = true)\n",
      " |-- end_station_id: integer (nullable = true)\n",
      " |-- end_station_name: string (nullable = true)\n",
      " |-- end_station_latitude: string (nullable = true)\n",
      " |-- end_station_longitude: string (nullable = true)\n",
      " |-- bikeid: integer (nullable = true)\n",
      " |-- usertype: string (nullable = true)\n",
      " |-- birth_year: integer (nullable = true)\n",
      " |-- gender: integer (nullable = true)\n",
      " |-- start_time: timestamp (nullable = true)\n",
      " |-- stop_time: timestamp (nullable = true)\n",
      " |-- dist: double (nullable = true)\n",
      " |-- speed: double (nullable = true)\n",
      " |-- age: integer (nullable = true)\n",
      " |-- member: integer (nullable = true)\n",
      " |-- day_of_week: integer (nullable = true)\n",
      "\n"
     ]
    }
   ],
   "source": [
    "citibike.printSchema()"
   ]
  },
  {
   "cell_type": "code",
   "execution_count": 8,
   "metadata": {},
   "outputs": [
    {
     "name": "stdout",
     "output_type": "stream",
     "text": [
      "root\n",
      " |-- Duration: integer (nullable = true)\n",
      " |-- start_date: string (nullable = true)\n",
      " |-- end_date: string (nullable = true)\n",
      " |-- start_station_number: string (nullable = true)\n",
      " |-- start_station: string (nullable = true)\n",
      " |-- end_station_number: string (nullable = true)\n",
      " |-- end_station: string (nullable = true)\n",
      " |-- bike_number: string (nullable = true)\n",
      " |-- member_type: string (nullable = true)\n",
      " |-- start_lat: string (nullable = true)\n",
      " |-- start_long: string (nullable = true)\n",
      " |-- end_lat: string (nullable = true)\n",
      " |-- end_long: string (nullable = true)\n",
      " |-- dist: double (nullable = true)\n",
      " |-- speed: double (nullable = true)\n",
      " |-- start_time: timestamp (nullable = true)\n",
      " |-- stop_time: timestamp (nullable = true)\n",
      " |-- day_of_week: integer (nullable = true)\n",
      "\n"
     ]
    }
   ],
   "source": [
    "capital.printSchema()"
   ]
  },
  {
   "cell_type": "code",
   "execution_count": 3,
   "metadata": {},
   "outputs": [],
   "source": [
    "import numpy as np\n",
    "import pandas as pd\n",
    "import matplotlib.pyplot as plt\n",
    "import seaborn as sns; sns.set()\n",
    "%matplotlib inline"
   ]
  },
  {
   "cell_type": "markdown",
   "metadata": {},
   "source": [
    "# CITIBIKE ANALYSIS"
   ]
  },
  {
   "cell_type": "code",
   "execution_count": 5,
   "metadata": {},
   "outputs": [],
   "source": [
    "#average of trip duration.\n",
    "citibike = citibike.dropna(subset=['usertype'])\n",
    "usert = pd.DataFrame()\n",
    "usert = pd.DataFrame()\n",
    "usert['averageduration'] = (citibike.groupby(['usertype', 'tripduration']).mean())\n",
    "usert = usert.reset_index()\n"
   ]
  },
  {
   "cell_type": "code",
   "execution_count": 11,
   "metadata": {},
   "outputs": [
    {
     "name": "stdout",
     "output_type": "stream",
     "text": [
      "+-------+----------+\n",
      "|summary|  usertype|\n",
      "+-------+----------+\n",
      "|  count| 147666495|\n",
      "|   mean|      null|\n",
      "| stddev|      null|\n",
      "|    min|  Customer|\n",
      "|    25%|      null|\n",
      "|    50%|      null|\n",
      "|    75%|      null|\n",
      "|    max|Subscriber|\n",
      "+-------+----------+\n",
      "\n"
     ]
    }
   ],
   "source": [
    "citibike.select(\"usertype\").summary().show()"
   ]
  },
  {
   "cell_type": "code",
   "execution_count": 12,
   "metadata": {},
   "outputs": [
    {
     "name": "stdout",
     "output_type": "stream",
     "text": [
      "+-------+------------------+\n",
      "|summary|            gender|\n",
      "+-------+------------------+\n",
      "|  count|         147666495|\n",
      "|   mean|1.1152346712096064|\n",
      "| stddev|0.5588447342047681|\n",
      "|    min|                 0|\n",
      "|    25%|                 1|\n",
      "|    50%|                 1|\n",
      "|    75%|                 1|\n",
      "|    max|                 2|\n",
      "+-------+------------------+\n",
      "\n"
     ]
    }
   ],
   "source": [
    "citibike.select(\"gender\").summary().show()"
   ]
  },
  {
   "cell_type": "code",
   "execution_count": 14,
   "metadata": {},
   "outputs": [
    {
     "data": {
      "image/png": "[encoded data removed]",
      "text/plain": [
       "<Figure size 720x576 with 1 Axes>"
      ]
     },
     "metadata": {
      "needs_background": "light"
     },
     "output_type": "display_data"
    }
   ],
   "source": [
    "#Histogram of gender column\n",
    "fig = plt.figure(figsize=(10, 8))\n",
    "bins, counts = citibike.select('gender').rdd.flatMap(lambda x: x).histogram(20)\n",
    "plt.hist(bins[:-1], bins=bins, weights=counts, color = '#263572')\n",
    "plt.xticks(size = 20)\n",
    "plt.yticks(size = 20)\n",
    "fig.savefig(\"citibike_gender.png\", bbox_inches='tight')"
   ]
  },
  {
   "cell_type": "code",
   "execution_count": 15,
   "metadata": {},
   "outputs": [
    {
     "name": "stdout",
     "output_type": "stream",
     "text": [
      "+------+--------+\n",
      "|gender|   count|\n",
      "+------+--------+\n",
      "|     1|99588283|\n",
      "|     2|32547256|\n",
      "|     0|15530956|\n",
      "+------+--------+\n",
      "\n"
     ]
    }
   ],
   "source": [
    "citibike.groupBy('gender').count().show()"
   ]
  },
  {
   "cell_type": "markdown",
   "metadata": {},
   "source": [
    "1: Males have the highest number of rides followed by 2: Females. The rest aren't documented."
   ]
  },
  {
   "cell_type": "code",
   "execution_count": 10,
   "metadata": {},
   "outputs": [
    {
     "name": "stdout",
     "output_type": "stream",
     "text": [
      "+-------+-----------------+\n",
      "|summary|              age|\n",
      "+-------+-----------------+\n",
      "|   mean|41.83112246499384|\n",
      "+-------+-----------------+\n",
      "\n"
     ]
    }
   ],
   "source": [
    "citibike.select(\"age\").summary('mean').show()"
   ]
  },
  {
   "cell_type": "markdown",
   "metadata": {},
   "source": [
    "Mean age of a bike rider is ~ 41/42"
   ]
  },
  {
   "cell_type": "markdown",
   "metadata": {},
   "source": [
    "# Trip Distribution Analysis"
   ]
  },
  {
   "cell_type": "markdown",
   "metadata": {},
   "source": [
    "**Converting into minutes**"
   ]
  },
  {
   "cell_type": "code",
   "execution_count": 4,
   "metadata": {},
   "outputs": [
    {
     "data": {
      "text/plain": [
       "True"
      ]
     },
     "execution_count": 4,
     "metadata": {},
     "output_type": "execute_result"
    }
   ],
   "source": [
    "citibike=citibike.withColumn(\"minutes\", citibike.tripduration/60)\n",
    "'minutes'in list(citibike.columns)"
   ]
  },
  {
   "cell_type": "code",
   "execution_count": 13,
   "metadata": {},
   "outputs": [
    {
     "name": "stdout",
     "output_type": "stream",
     "text": [
      "+-------+------------------+\n",
      "|summary|           minutes|\n",
      "+-------+------------------+\n",
      "|   mean|16.063603619764912|\n",
      "+-------+------------------+\n",
      "\n"
     ]
    }
   ],
   "source": [
    "citibike.select(\"minutes\").summary('mean').show()"
   ]
  },
  {
   "cell_type": "markdown",
   "metadata": {},
   "source": [
    "On average, the bike ride trip duration in minutes is ~ 16."
   ]
  },
  {
   "cell_type": "code",
   "execution_count": 14,
   "metadata": {},
   "outputs": [
    {
     "name": "stdout",
     "output_type": "stream",
     "text": [
      "+----------+---------+\n",
      "|  usertype|    count|\n",
      "+----------+---------+\n",
      "|Subscriber|130343847|\n",
      "|  Customer| 17322648|\n",
      "+----------+---------+\n",
      "\n"
     ]
    }
   ],
   "source": [
    "citibike.groupBy('usertype').count().show()"
   ]
  },
  {
   "cell_type": "markdown",
   "metadata": {},
   "source": [
    "Most rides were initiated by Subscribers, not Customers."
   ]
  },
  {
   "cell_type": "code",
   "execution_count": 10,
   "metadata": {},
   "outputs": [
    {
     "name": "stdout",
     "output_type": "stream",
     "text": [
      "root\n",
      " |-- tripduration: integer (nullable = true)\n",
      " |-- starttime: string (nullable = true)\n",
      " |-- stoptime: string (nullable = true)\n",
      " |-- start_station_id: integer (nullable = true)\n",
      " |-- start_station_name: string (nullable = true)\n",
      " |-- start_station_latitude: string (nullable = true)\n",
      " |-- start_station_longitude: string (nullable = true)\n",
      " |-- end_station_id: integer (nullable = true)\n",
      " |-- end_station_name: string (nullable = true)\n",
      " |-- end_station_latitude: string (nullable = true)\n",
      " |-- end_station_longitude: string (nullable = true)\n",
      " |-- bikeid: integer (nullable = true)\n",
      " |-- usertype: string (nullable = true)\n",
      " |-- birth_year: integer (nullable = true)\n",
      " |-- gender: integer (nullable = true)\n",
      " |-- start_time: timestamp (nullable = true)\n",
      " |-- stop_time: timestamp (nullable = true)\n",
      " |-- dist: double (nullable = true)\n",
      " |-- speed: double (nullable = true)\n",
      " |-- age: integer (nullable = true)\n",
      " |-- member: integer (nullable = true)\n",
      " |-- day_of_week: integer (nullable = true)\n",
      " |-- minutes: double (nullable = true)\n",
      "\n"
     ]
    }
   ],
   "source": [
    "citibikemin = citibike.dropna(subset=['usertype', 'minutes'])\n",
    "usert = pd.DataFrame()\n",
    "citibikemin.printSchema()"
   ]
  },
  {
   "cell_type": "code",
   "execution_count": 10,
   "metadata": {},
   "outputs": [
    {
     "data": {
      "image/png": "[encoded data removed]",
      "text/plain": [
       "<Figure size 720x576 with 1 Axes>"
      ]
     },
     "metadata": {
      "needs_background": "light"
     },
     "output_type": "display_data"
    }
   ],
   "source": [
    "fig = plt.figure(figsize=(10, 8))\n",
    "index = ['Subscriber', 'Customer']\n",
    "counts = [130343847,17322648]\n",
    "plt.bar(index,counts, color = '#E43835')\n",
    "plt.yticks(size = 20)\n",
    "plt.xticks(index, size = 20)\n",
    "plt.show()\n",
    "fig.savefig(\"dc_dayweek.png\", bbox_inches='tight')"
   ]
  },
  {
   "cell_type": "code",
   "execution_count": null,
   "metadata": {},
   "outputs": [],
   "source": []
  },
  {
   "cell_type": "code",
   "execution_count": null,
   "metadata": {},
   "outputs": [],
   "source": []
  }
 ],
 "metadata": {
  "kernelspec": {
   "display_name": "Python 3",
   "language": "python",
   "name": "python3"
  },
  "language_info": {
   "codemirror_mode": {
    "name": "ipython",
    "version": 3
   },
   "file_extension": ".py",
   "mimetype": "text/x-python",
   "name": "python",
   "nbconvert_exporter": "python",
   "pygments_lexer": "ipython3",
   "version": "3.7.6"
  }
 },
 "nbformat": 4,
 "nbformat_minor": 4
}
