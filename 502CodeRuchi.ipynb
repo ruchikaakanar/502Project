{
 "cells": [
  {
   "cell_type": "code",
   "execution_count": 1,
   "metadata": {},
   "outputs": [],
   "source": [
    "import findspark\n",
    "findspark.init()\n",
    "\n",
    "from pyspark import SparkContext\n",
    "from pyspark.sql import SparkSession\n",
    "\n",
    "sc = SparkContext()\n",
    "\n",
    "spark = SparkSession.builder \\\n",
    "     .appName(\"Test SparkSession\") \\\n",
    "     .getOrCreate()"
   ]
  },
  {
   "cell_type": "code",
   "execution_count": 2,
   "metadata": {},
   "outputs": [],
   "source": [
    "#Reading in the data as a dataframe\n",
    "citibike = spark.read.load(\"s3://502mashagubenko/502Project/FullCitibike\")\n",
    "capital = spark.read.load(\"s3://502mashagubenko/502Project/Capital\")"
   ]
  },
  {
   "cell_type": "code",
   "execution_count": 3,
   "metadata": {},
   "outputs": [
    {
     "data": {
      "text/plain": [
       "1135"
      ]
     },
     "execution_count": 3,
     "metadata": {},
     "output_type": "execute_result"
    }
   ],
   "source": [
    "# Number of stations for citibike\n",
    "citibike.select(\"start_station_id\").distinct().count()\n",
    "citibike.select(\"end_station_id\").distinct().count()"
   ]
  },
  {
   "cell_type": "code",
   "execution_count": 8,
   "metadata": {},
   "outputs": [
    {
     "data": {
      "text/plain": [
       "581"
      ]
     },
     "execution_count": 8,
     "metadata": {},
     "output_type": "execute_result"
    }
   ],
   "source": [
    "# Number of stations for capital\n",
    "capital.select(\"start_station_number\").distinct().count()\n",
    "capital.select(\"end_station_number\").distinct().count()"
   ]
  },
  {
   "cell_type": "code",
   "execution_count": 3,
   "metadata": {},
   "outputs": [
    {
     "name": "stdout",
     "output_type": "stream",
     "text": [
      "root\n",
      " |-- tripduration: integer (nullable = true)\n",
      " |-- starttime: string (nullable = true)\n",
      " |-- stoptime: string (nullable = true)\n",
      " |-- start_station_id: integer (nullable = true)\n",
      " |-- start_station_name: string (nullable = true)\n",
      " |-- start_station_latitude: string (nullable = true)\n",
      " |-- start_station_longitude: string (nullable = true)\n",
      " |-- end_station_id: integer (nullable = true)\n",
      " |-- end_station_name: string (nullable = true)\n",
      " |-- end_station_latitude: string (nullable = true)\n",
      " |-- end_station_longitude: string (nullable = true)\n",
      " |-- bikeid: integer (nullable = true)\n",
      " |-- usertype: string (nullable = true)\n",
      " |-- birth_year: integer (nullable = true)\n",
      " |-- gender: integer (nullable = true)\n",
      " |-- start_time: timestamp (nullable = true)\n",
      " |-- stop_time: timestamp (nullable = true)\n",
      " |-- dist: double (nullable = true)\n",
      " |-- speed: double (nullable = true)\n",
      " |-- age: integer (nullable = true)\n",
      " |-- member: integer (nullable = true)\n",
      " |-- day_of_week: integer (nullable = true)\n",
      "\n"
     ]
    }
   ],
   "source": [
    "citibike.printSchema()"
   ]
  },
  {
   "cell_type": "code",
   "execution_count": 8,
   "metadata": {},
   "outputs": [
    {
     "name": "stdout",
     "output_type": "stream",
     "text": [
      "root\n",
      " |-- Duration: integer (nullable = true)\n",
      " |-- start_date: string (nullable = true)\n",
      " |-- end_date: string (nullable = true)\n",
      " |-- start_station_number: string (nullable = true)\n",
      " |-- start_station: string (nullable = true)\n",
      " |-- end_station_number: string (nullable = true)\n",
      " |-- end_station: string (nullable = true)\n",
      " |-- bike_number: string (nullable = true)\n",
      " |-- member_type: string (nullable = true)\n",
      " |-- start_lat: string (nullable = true)\n",
      " |-- start_long: string (nullable = true)\n",
      " |-- end_lat: string (nullable = true)\n",
      " |-- end_long: string (nullable = true)\n",
      " |-- dist: double (nullable = true)\n",
      " |-- speed: double (nullable = true)\n",
      " |-- start_time: timestamp (nullable = true)\n",
      " |-- stop_time: timestamp (nullable = true)\n",
      " |-- day_of_week: integer (nullable = true)\n",
      "\n"
     ]
    }
   ],
   "source": [
    "capital.printSchema()"
   ]
  },
  {
   "cell_type": "code",
   "execution_count": 4,
   "metadata": {},
   "outputs": [],
   "source": [
    "import numpy as np\n",
    "import pandas as pd\n",
    "import matplotlib.pyplot as plt\n",
    "import seaborn as sns; sns.set()\n",
    "%matplotlib inline"
   ]
  },
  {
   "cell_type": "markdown",
   "metadata": {},
   "source": [
    "# CITIBIKE ANALYSIS"
   ]
  },
  {
   "cell_type": "code",
   "execution_count": 5,
   "metadata": {},
   "outputs": [],
   "source": [
    "#average of trip duration.\n",
    "citibike = citibike.dropna(subset=['usertype'])\n",
    "usert = pd.DataFrame()\n",
    "usert = pd.DataFrame()\n",
    "usert['averageduration'] = (citibike.groupby(['usertype', 'tripduration']).mean())\n",
    "usert = usert.reset_index()\n"
   ]
  },
  {
   "cell_type": "code",
   "execution_count": 5,
   "metadata": {},
   "outputs": [
    {
     "name": "stdout",
     "output_type": "stream",
     "text": [
      "+-------+----------+\n",
      "|summary|  usertype|\n",
      "+-------+----------+\n",
      "|  count| 147666495|\n",
      "|   mean|      null|\n",
      "| stddev|      null|\n",
      "|    min|  Customer|\n",
      "|    25%|      null|\n",
      "|    50%|      null|\n",
      "|    75%|      null|\n",
      "|    max|Subscriber|\n",
      "+-------+----------+\n",
      "\n"
     ]
    }
   ],
   "source": [
    "citibike.select(\"usertype\").summary().show()"
   ]
  },
  {
   "cell_type": "code",
   "execution_count": 14,
   "metadata": {},
   "outputs": [
    {
     "data": {
      "text/plain": [
       "DataFrame[summary: string, usertype: string, tripduration: string]"
      ]
     },
     "execution_count": 14,
     "metadata": {},
     "output_type": "execute_result"
    }
   ],
   "source": [
    "citibike.select(['usertype', 'tripduration']).summary(\"mean\")"
   ]
  },
  {
   "cell_type": "code",
   "execution_count": 12,
   "metadata": {},
   "outputs": [
    {
     "name": "stdout",
     "output_type": "stream",
     "text": [
      "+-------+------------------+\n",
      "|summary|            gender|\n",
      "+-------+------------------+\n",
      "|  count|         147666495|\n",
      "|   mean|1.1152346712096064|\n",
      "| stddev|0.5588447342047681|\n",
      "|    min|                 0|\n",
      "|    25%|                 1|\n",
      "|    50%|                 1|\n",
      "|    75%|                 1|\n",
      "|    max|                 2|\n",
      "+-------+------------------+\n",
      "\n"
     ]
    }
   ],
   "source": [
    "citibike.select(\"gender\").summary().show()"
   ]
  },
  {
   "cell_type": "markdown",
   "metadata": {},
   "source": [
    "#Histogram of gender column\n",
    "fig = plt.figure(figsize=(10, 8))\n",
    "bins, counts = citibike.select('gender').rdd.flatMap(lambda x: x).histogram(20)\n",
    "plt.hist(bins[:-1], bins=bins, weights=counts, color = '#263572')\n",
    "plt.xticks(size = 20)\n",
    "plt.yticks(size = 20)\n",
    "fig.savefig(\"citibike_gender.png\", bbox_inches='tight')"
   ]
  },
  {
   "cell_type": "code",
   "execution_count": 15,
   "metadata": {},
   "outputs": [
    {
     "name": "stdout",
     "output_type": "stream",
     "text": [
      "+------+--------+\n",
      "|gender|   count|\n",
      "+------+--------+\n",
      "|     1|99588283|\n",
      "|     2|32547256|\n",
      "|     0|15530956|\n",
      "+------+--------+\n",
      "\n"
     ]
    }
   ],
   "source": [
    "citibike.groupBy('gender').count().show()"
   ]
  },
  {
   "cell_type": "code",
   "execution_count": 6,
   "metadata": {},
   "outputs": [
    {
     "data": {
      "image/png": "[encoded data removed]",
      "text/plain": [
       "<Figure size 720x576 with 1 Axes>"
      ]
     },
     "metadata": {
      "needs_background": "light"
     },
     "output_type": "display_data"
    }
   ],
   "source": [
    "fig = plt.figure(figsize=(10, 8))\n",
    "index = ['Male', 'Female', 'Not Specified']\n",
    "mean = [99588283,32547256, 15530956]\n",
    "plt.bar(index,mean, color = 'blue')\n",
    "plt.yticks(size = 20)\n",
    "plt.xticks(index, size = 20)\n",
    "plt.show()\n",
    "fig.savefig(\"GenderOverview.png\", bbox_inches='tight')"
   ]
  },
  {
   "cell_type": "markdown",
   "metadata": {},
   "source": [
    "1: Males have the highest number of rides followed by 2: Females. The rest aren't documented."
   ]
  },
  {
   "cell_type": "code",
   "execution_count": 10,
   "metadata": {},
   "outputs": [
    {
     "name": "stdout",
     "output_type": "stream",
     "text": [
      "+-------+-----------------+\n",
      "|summary|              age|\n",
      "+-------+-----------------+\n",
      "|   mean|41.83112246499384|\n",
      "+-------+-----------------+\n",
      "\n"
     ]
    }
   ],
   "source": [
    "citibike.select(\"age\").summary('mean').show()"
   ]
  },
  {
   "cell_type": "code",
   "execution_count": 8,
   "metadata": {},
   "outputs": [
    {
     "data": {
      "text/plain": [
       "<pyspark.sql.group.GroupedData at 0x7f2e2d3538d0>"
      ]
     },
     "execution_count": 8,
     "metadata": {},
     "output_type": "execute_result"
    }
   ],
   "source": [
    "citibike = citibike.dropna()\n",
    "citibikegender = citibike.groupby('gender')\n",
    "citibikegender"
   ]
  },
  {
   "cell_type": "code",
   "execution_count": 9,
   "metadata": {},
   "outputs": [
    {
     "name": "stdout",
     "output_type": "stream",
     "text": [
      "+------+------------------+-----------------+\n",
      "|gender|      avg(minutes)|         avg(age)|\n",
      "+------+------------------+-----------------+\n",
      "|     1|13.716180614499317|41.37831377825107|\n",
      "|     2|16.334305585021102|39.95615568862841|\n",
      "|     0| 34.81372622283361|49.67819591213413|\n",
      "+------+------------------+-----------------+\n",
      "\n"
     ]
    }
   ],
   "source": [
    "avg_colsg = ['minutes', 'age']\n",
    "citibikegender.avg(*avg_colsg).show()"
   ]
  },
  {
   "cell_type": "code",
   "execution_count": 10,
   "metadata": {},
   "outputs": [
    {
     "data": {
      "image/png": "[encoded data removed]",
      "text/plain": [
       "<Figure size 720x576 with 1 Axes>"
      ]
     },
     "metadata": {
      "needs_background": "light"
     },
     "output_type": "display_data"
    }
   ],
   "source": [
    "fig = plt.figure(figsize=(10, 8))\n",
    "index = ['Male', 'Female', 'Not Specified']\n",
    "counts = [41.378,39.956,49.678]\n",
    "plt.bar(index,counts, color = 'blue')\n",
    "plt.yticks(size = 20)\n",
    "plt.xticks(index, size = 20)\n",
    "plt.show()\n",
    "fig.savefig(\"GenderandAge.png\", bbox_inches='tight')"
   ]
  },
  {
   "cell_type": "code",
   "execution_count": 11,
   "metadata": {},
   "outputs": [
    {
     "data": {
      "image/png": "[encoded data removed]",
      "text/plain": [
       "<Figure size 720x576 with 1 Axes>"
      ]
     },
     "metadata": {
      "needs_background": "light"
     },
     "output_type": "display_data"
    }
   ],
   "source": [
    "fig = plt.figure(figsize=(10, 8))\n",
    "index = ['Male', 'Female', 'Not Specified']\n",
    "counts = [13.716,16.334,34.813]\n",
    "plt.bar(index,counts, color = 'blue')\n",
    "plt.yticks(size = 20)\n",
    "plt.xticks(index, size = 20)\n",
    "plt.show()\n",
    "fig.savefig(\"GenderandMinutes.png\", bbox_inches='tight')"
   ]
  },
  {
   "cell_type": "code",
   "execution_count": null,
   "metadata": {},
   "outputs": [],
   "source": []
  },
  {
   "cell_type": "markdown",
   "metadata": {},
   "source": [
    "Mean age of a bike rider is ~ 41/42"
   ]
  },
  {
   "cell_type": "markdown",
   "metadata": {},
   "source": [
    "# Trip Distribution Analysis"
   ]
  },
  {
   "cell_type": "markdown",
   "metadata": {},
   "source": [
    "**Converting into minutes**"
   ]
  },
  {
   "cell_type": "code",
   "execution_count": 7,
   "metadata": {},
   "outputs": [
    {
     "data": {
      "text/plain": [
       "True"
      ]
     },
     "execution_count": 7,
     "metadata": {},
     "output_type": "execute_result"
    }
   ],
   "source": [
    "citibike=citibike.withColumn(\"minutes\", citibike.tripduration/60)\n",
    "'minutes'in list(citibike.columns)"
   ]
  },
  {
   "cell_type": "code",
   "execution_count": 13,
   "metadata": {},
   "outputs": [
    {
     "name": "stdout",
     "output_type": "stream",
     "text": [
      "+-------+------------------+\n",
      "|summary|           minutes|\n",
      "+-------+------------------+\n",
      "|   mean|16.071086347698856|\n",
      "+-------+------------------+\n",
      "\n"
     ]
    }
   ],
   "source": [
    "citibikemins=citibike.select(\"minutes\").summary('mean').show()"
   ]
  },
  {
   "cell_type": "markdown",
   "metadata": {},
   "source": [
    "On average, the bike ride trip duration in minutes is ~ 16."
   ]
  },
  {
   "cell_type": "code",
   "execution_count": 12,
   "metadata": {},
   "outputs": [
    {
     "name": "stdout",
     "output_type": "stream",
     "text": [
      "+----------+--------+\n",
      "|  usertype|   count|\n",
      "+----------+--------+\n",
      "|Subscriber|90830536|\n",
      "|  Customer| 6293948|\n",
      "+----------+--------+\n",
      "\n"
     ]
    }
   ],
   "source": [
    "citibike = citibike.dropna()\n",
    "citibike.groupBy('usertype').count().show()"
   ]
  },
  {
   "cell_type": "markdown",
   "metadata": {},
   "source": [
    "Most rides were initiated by Subscribers, not Customers."
   ]
  },
  {
   "cell_type": "markdown",
   "metadata": {},
   "source": [
    "citibikemin = citibike.subset=['usertype', 'minutes']\n",
    "usert = pd.DataFrame()\n",
    "citibikemin.printSchema()"
   ]
  },
  {
   "cell_type": "code",
   "execution_count": 13,
   "metadata": {},
   "outputs": [
    {
     "data": {
      "image/png": "[encoded data removed]",
      "text/plain": [
       "<Figure size 720x576 with 1 Axes>"
      ]
     },
     "metadata": {
      "needs_background": "light"
     },
     "output_type": "display_data"
    }
   ],
   "source": [
    "fig = plt.figure(figsize=(10, 8))\n",
    "index = ['Subscriber', 'Customer']\n",
    "counts = [90830536,6293948]\n",
    "plt.bar(index,counts, color = 'blue')\n",
    "plt.yticks(size = 20)\n",
    "plt.xticks(index, size = 20)\n",
    "plt.show()\n",
    "fig.savefig(\"UsertypeOverview.png\", bbox_inches='tight')"
   ]
  },
  {
   "cell_type": "markdown",
   "metadata": {},
   "source": [
    "#Histogram of age column\n",
    "fig = plt.figure(figsize=(10, 8))\n",
    "bins, counts = citibike.select('age', 'member').rdd.flatMap(lambda x: x).histogram(20)\n",
    "plt.hist(bins[:-1], bins=bins, weights=counts, color = '#263572')\n",
    "plt.xticks(size = 20)\n",
    "plt.yticks(size = 20)\n",
    "fig.savefig(\"TEST.png\", bbox_inches='tight')"
   ]
  },
  {
   "cell_type": "markdown",
   "metadata": {},
   "source": [
    "import sys\n",
    "sys.setrecursionlimit(100000)"
   ]
  },
  {
   "cell_type": "markdown",
   "metadata": {},
   "source": [
    "# CITIBIKE: GENDER PREDICTION"
   ]
  },
  {
   "cell_type": "code",
   "execution_count": 14,
   "metadata": {},
   "outputs": [],
   "source": [
    "from pyspark.ml.feature import VectorAssembler\n",
    "citibike = citibike.dropna()\n",
    "#Setting up the features (only numerical) \n",
    "citibiketype=['day_of_week', 'start_station_id', 'tripduration', 'age', \"end_station_id\", 'member']\n",
    "\n",
    "#Using vectorassembler to combine the feature together\n",
    "assembler = VectorAssembler(inputCols=citibiketype,outputCol='features')"
   ]
  },
  {
   "cell_type": "code",
   "execution_count": 15,
   "metadata": {},
   "outputs": [],
   "source": [
    "from pyspark.ml.regression import RandomForestRegressor\n",
    "\n",
    "rf = RandomForestRegressor(labelCol=\"gender\", featuresCol=\"features\")"
   ]
  },
  {
   "cell_type": "code",
   "execution_count": 16,
   "metadata": {},
   "outputs": [
    {
     "name": "stdout",
     "output_type": "stream",
     "text": [
      "+-----------------------------------+\n",
      "|features                           |\n",
      "+-----------------------------------+\n",
      "|[6.0,284.0,482.0,36.0,491.0,1.0]   |\n",
      "|[6.0,393.0,3184.0,79.0,393.0,1.0]  |\n",
      "|[6.0,3178.0,1647.0,46.0,327.0,1.0] |\n",
      "|[6.0,492.0,627.0,45.0,335.0,1.0]   |\n",
      "|[6.0,478.0,733.0,42.0,472.0,1.0]   |\n",
      "|[6.0,3140.0,367.0,50.0,3747.0,1.0] |\n",
      "|[6.0,146.0,174.0,42.0,3664.0,1.0]  |\n",
      "|[6.0,3697.0,1265.0,38.0,494.0,1.0] |\n",
      "|[6.0,389.0,318.0,47.0,3092.0,1.0]  |\n",
      "|[6.0,327.0,355.0,39.0,3664.0,1.0]  |\n",
      "|[6.0,3619.0,147.0,31.0,3721.0,1.0] |\n",
      "|[6.0,3749.0,523.0,29.0,3712.0,1.0] |\n",
      "|[6.0,462.0,117.0,32.0,453.0,1.0]   |\n",
      "|[6.0,394.0,503.0,34.0,3788.0,1.0]  |\n",
      "|[6.0,3524.0,973.0,44.0,3126.0,1.0] |\n",
      "|[6.0,3686.0,774.0,35.0,426.0,1.0]  |\n",
      "|[6.0,151.0,686.0,46.0,3641.0,1.0]  |\n",
      "|[6.0,504.0,185.0,29.0,174.0,1.0]   |\n",
      "|[6.0,3159.0,641.0,39.0,359.0,1.0]  |\n",
      "|[6.0,3592.0,1086.0,56.0,3608.0,1.0]|\n",
      "+-----------------------------------+\n",
      "only showing top 20 rows\n",
      "\n"
     ]
    }
   ],
   "source": [
    "from pyspark.ml import Pipeline\n",
    "from pyspark.ml.feature import StandardScaler\n",
    "\n",
    "#pipeline = Pipeline(stages=[assembler, rf])\n",
    "\n",
    "vectorized = assembler.transform(citibike)\n",
    "vectorized.select(\"features\").show(truncate=False)\n",
    "#vectorized=standardscaler.fit(vectorized).transform(vectorized) #standardized\n",
    "\n",
    "train, test = vectorized.randomSplit([0.8, 0.2])"
   ]
  },
  {
   "cell_type": "code",
   "execution_count": 17,
   "metadata": {},
   "outputs": [],
   "source": [
    "model=rf.fit(train)\n",
    "train=model.transform(train)\n",
    "test=model.transform(test)"
   ]
  },
  {
   "cell_type": "code",
   "execution_count": 18,
   "metadata": {},
   "outputs": [
    {
     "name": "stdout",
     "output_type": "stream",
     "text": [
      "COUNT FOR TRAIN: 77699668\n",
      "COUNT OF TEST: 19424816\n"
     ]
    }
   ],
   "source": [
    "print(\"COUNT FOR TRAIN: \" + str(train.count()))\n",
    "print(\"COUNT OF TEST: \" + str(test.count()))"
   ]
  },
  {
   "cell_type": "code",
   "execution_count": 20,
   "metadata": {},
   "outputs": [
    {
     "data": {
      "text/plain": [
       "0.43925264834929656"
      ]
     },
     "execution_count": 20,
     "metadata": {},
     "output_type": "execute_result"
    }
   ],
   "source": [
    "from pyspark.ml.evaluation import RegressionEvaluator\n",
    "evaluator = RegressionEvaluator(labelCol=\"gender\", predictionCol=\"prediction\", metricName=\"rmse\")\n",
    "rmse = evaluator.evaluate(test)\n",
    "rmse"
   ]
  },
  {
   "cell_type": "code",
   "execution_count": 22,
   "metadata": {},
   "outputs": [
    {
     "data": {
      "image/png": "[encoded data removed]",
      "text/plain": [
       "<Figure size 720x576 with 1 Axes>"
      ]
     },
     "metadata": {
      "needs_background": "light"
     },
     "output_type": "display_data"
    }
   ],
   "source": [
    "importances = model.featureImportances\n",
    "\n",
    "x_values = list(range(len(importances)))\n",
    "\n",
    "fig = plt.figure(figsize=(10, 8))\n",
    "plt.bar(x_values, importances, orientation = 'vertical',color = 'blue')\n",
    "plt.xticks(x_values, citibiketype, rotation=40)\n",
    "plt.ylabel('Importance')\n",
    "plt.xlabel('Feature')\n",
    "plt.title('Feature Importances')\n",
    "plt.xticks(size = 20)\n",
    "plt.yticks(size = 20)\n",
    "fig.savefig(\"GenderRandomForest.png\", bbox_inches='tight')"
   ]
  },
  {
   "cell_type": "markdown",
   "metadata": {},
   "source": [
    "fig = plt.figure(figsize=(10, 8))\n",
    "bins, counts = usert.select('member').rdd.flatMap(lambda x: x).histogram(20)\n",
    "plt.hist(bins[:-1], bins=bins, weights=counts, color = '#263572')\n",
    "plt.xticks(size = 20)\n",
    "plt.yticks(size = 20)\n",
    "fig.savefig(\"NotNeeded.png\", bbox_inches='tight')"
   ]
  },
  {
   "cell_type": "markdown",
   "metadata": {},
   "source": [
    "# CITIBIKE: AGE PREDICTION"
   ]
  },
  {
   "cell_type": "code",
   "execution_count": 23,
   "metadata": {},
   "outputs": [],
   "source": [
    "from pyspark.ml.feature import VectorAssembler\n",
    "citibike = citibike.dropna()\n",
    "#Setting up the features (only numerical) \n",
    "citibikeage=['day_of_week', 'start_station_id', 'tripduration', 'gender', \"end_station_id\", 'member', 'minutes']\n",
    "\n",
    "#Using vectorassembler to combine the feature together\n",
    "assembler = VectorAssembler(inputCols=citibikeage,outputCol='features')"
   ]
  },
  {
   "cell_type": "code",
   "execution_count": 24,
   "metadata": {},
   "outputs": [],
   "source": [
    "from pyspark.ml.regression import RandomForestRegressor\n",
    "\n",
    "rf = RandomForestRegressor(labelCol=\"age\", featuresCol=\"features\")"
   ]
  },
  {
   "cell_type": "code",
   "execution_count": 25,
   "metadata": {},
   "outputs": [
    {
     "name": "stdout",
     "output_type": "stream",
     "text": [
      "+----------------------------------------------------+\n",
      "|features                                            |\n",
      "+----------------------------------------------------+\n",
      "|[6.0,284.0,482.0,1.0,491.0,1.0,8.033333333333333]   |\n",
      "|[6.0,393.0,3184.0,1.0,393.0,1.0,53.06666666666667]  |\n",
      "|[6.0,3178.0,1647.0,1.0,327.0,1.0,27.45]             |\n",
      "|[6.0,492.0,627.0,1.0,335.0,1.0,10.45]               |\n",
      "|[6.0,478.0,733.0,2.0,472.0,1.0,12.216666666666667]  |\n",
      "|[6.0,3140.0,367.0,1.0,3747.0,1.0,6.116666666666666] |\n",
      "|[6.0,146.0,174.0,1.0,3664.0,1.0,2.9]                |\n",
      "|[6.0,3697.0,1265.0,2.0,494.0,1.0,21.083333333333332]|\n",
      "|[6.0,389.0,318.0,2.0,3092.0,1.0,5.3]                |\n",
      "|[6.0,327.0,355.0,1.0,3664.0,1.0,5.916666666666667]  |\n",
      "|[6.0,3619.0,147.0,1.0,3721.0,1.0,2.45]              |\n",
      "|[6.0,3749.0,523.0,1.0,3712.0,1.0,8.716666666666667] |\n",
      "|[6.0,462.0,117.0,1.0,453.0,1.0,1.95]                |\n",
      "|[6.0,394.0,503.0,1.0,3788.0,1.0,8.383333333333333]  |\n",
      "|[6.0,3524.0,973.0,1.0,3126.0,1.0,16.216666666666665]|\n",
      "|[6.0,3686.0,774.0,2.0,426.0,1.0,12.9]               |\n",
      "|[6.0,151.0,686.0,1.0,3641.0,1.0,11.433333333333334] |\n",
      "|[6.0,504.0,185.0,1.0,174.0,1.0,3.0833333333333335]  |\n",
      "|[6.0,3159.0,641.0,1.0,359.0,1.0,10.683333333333334] |\n",
      "|[6.0,3592.0,1086.0,1.0,3608.0,1.0,18.1]             |\n",
      "+----------------------------------------------------+\n",
      "only showing top 20 rows\n",
      "\n"
     ]
    }
   ],
   "source": [
    "from pyspark.ml import Pipeline\n",
    "from pyspark.ml.feature import StandardScaler\n",
    "\n",
    "#pipeline = Pipeline(stages=[assembler, rf])\n",
    "\n",
    "vectorized = assembler.transform(citibike)\n",
    "vectorized.select(\"features\").show(truncate=False)\n",
    "#vectorized=standardscaler.fit(vectorized).transform(vectorized) #standardized\n",
    "\n",
    "train, test = vectorized.randomSplit([0.8, 0.2])"
   ]
  },
  {
   "cell_type": "code",
   "execution_count": null,
   "metadata": {},
   "outputs": [],
   "source": [
    "model=rf.fit(train)\n",
    "trainage=model.transform(train)\n",
    "testage=model.transform(test)"
   ]
  },
  {
   "cell_type": "code",
   "execution_count": null,
   "metadata": {},
   "outputs": [],
   "source": [
    "print(\"COUNT FOR TRAIN: \" + str(trainage.count()))\n",
    "print(\"COUNT OF TEST: \" + str(testage.count()))"
   ]
  },
  {
   "cell_type": "code",
   "execution_count": null,
   "metadata": {},
   "outputs": [],
   "source": [
    "from pyspark.ml.evaluation import RegressionEvaluator\n",
    "evaluator = RegressionEvaluator(labelCol=\"gender\", predictionCol=\"prediction\", metricName=\"rmse\")\n",
    "rmse = evaluator.evaluate(testage)\n",
    "rmse"
   ]
  },
  {
   "cell_type": "code",
   "execution_count": null,
   "metadata": {},
   "outputs": [],
   "source": [
    "importances = model.featureImportances\n",
    "\n",
    "x_values = list(range(len(importances)))\n",
    "\n",
    "fig = plt.figure(figsize=(10, 8))\n",
    "plt.bar(x_values, importances, orientation = 'vertical',color = 'blue')\n",
    "plt.xticks(x_values, cols, rotation=40)\n",
    "plt.ylabel('Importance')\n",
    "plt.xlabel('Feature')\n",
    "plt.title('Feature Importances')\n",
    "plt.xticks(size = 20)\n",
    "plt.yticks(size = 20)\n",
    "fig.savefig(\"AgeRandomForest.png\", bbox_inches='tight')"
   ]
  },
  {
   "cell_type": "markdown",
   "metadata": {},
   "source": [
    "# ADDITIONAL ANALYSIS"
   ]
  },
  {
   "cell_type": "code",
   "execution_count": 17,
   "metadata": {},
   "outputs": [
    {
     "data": {
      "text/plain": [
       "<pyspark.sql.group.GroupedData at 0x7f591d9fdf50>"
      ]
     },
     "execution_count": 17,
     "metadata": {},
     "output_type": "execute_result"
    }
   ],
   "source": [
    "citibiketest1 = citibike.groupby('usertype')\n",
    "citibiketest1"
   ]
  },
  {
   "cell_type": "code",
   "execution_count": 18,
   "metadata": {},
   "outputs": [
    {
     "name": "stdout",
     "output_type": "stream",
     "text": [
      "+----------+------------------+------------------+\n",
      "|  usertype|      avg(minutes)| avg(tripduration)|\n",
      "+----------+------------------+------------------+\n",
      "|Subscriber| 13.38914606596912| 803.3487639581483|\n",
      "|      null|26.739389931095296|1604.3633958657178|\n",
      "|  Customer| 36.18749496708967|2171.2496980253827|\n",
      "+----------+------------------+------------------+\n",
      "\n"
     ]
    }
   ],
   "source": [
    "avg_cols = ['minutes', 'tripduration']\n",
    "citibiketest1.avg(*avg_cols).show()"
   ]
  },
  {
   "cell_type": "code",
   "execution_count": 20,
   "metadata": {},
   "outputs": [
    {
     "data": {
      "image/png": "[encoded data removed]",
      "text/plain": [
       "<Figure size 720x576 with 1 Axes>"
      ]
     },
     "metadata": {
      "needs_background": "light"
     },
     "output_type": "display_data"
    }
   ],
   "source": [
    "fig = plt.figure(figsize=(10, 8))\n",
    "index = ['Subscriber', 'Customer']\n",
    "counts = [13.38,36.19]\n",
    "plt.bar(index,counts, color = 'blue')\n",
    "plt.yticks(size = 20)\n",
    "plt.xticks(index, size = 20)\n",
    "plt.show()\n",
    "fig.savefig(\"UsertypeAverageMinutes.png\", bbox_inches='tight')"
   ]
  },
  {
   "cell_type": "code",
   "execution_count": 19,
   "metadata": {},
   "outputs": [
    {
     "name": "stdout",
     "output_type": "stream",
     "text": [
      "+----------+-----------------+\n",
      "|  usertype|         avg(age)|\n",
      "+----------+-----------------+\n",
      "|Subscriber|41.82806329978326|\n",
      "|      null|38.08400386847195|\n",
      "|  Customer|41.89352145395561|\n",
      "+----------+-----------------+\n",
      "\n"
     ]
    }
   ],
   "source": [
    "avg_cols2 = ['age']\n",
    "citibiketest1.avg(*avg_cols2).show()"
   ]
  },
  {
   "cell_type": "code",
   "execution_count": 23,
   "metadata": {},
   "outputs": [
    {
     "data": {
      "image/png": "[encoded data removed]",
      "text/plain": [
       "<Figure size 720x576 with 1 Axes>"
      ]
     },
     "metadata": {
      "needs_background": "light"
     },
     "output_type": "display_data"
    }
   ],
   "source": [
    "fig = plt.figure(figsize=(10, 8))\n",
    "index = ['Subscriber', 'Customer']\n",
    "counts = [41.828,42]\n",
    "plt.bar(index,counts, color = 'blue')\n",
    "plt.yticks(size = 20)\n",
    "plt.xticks(index, size = 20)\n",
    "plt.show()\n",
    "fig.savefig(\"UsertypeandAge.png\", bbox_inches='tight')"
   ]
  },
  {
   "cell_type": "markdown",
   "metadata": {},
   "source": [
    "**CAPITAL ANALYSIS**"
   ]
  },
  {
   "cell_type": "code",
   "execution_count": 11,
   "metadata": {},
   "outputs": [
    {
     "name": "stdout",
     "output_type": "stream",
     "text": [
      "root\n",
      " |-- Duration: integer (nullable = true)\n",
      " |-- start_date: string (nullable = true)\n",
      " |-- end_date: string (nullable = true)\n",
      " |-- start_station_number: string (nullable = true)\n",
      " |-- start_station: string (nullable = true)\n",
      " |-- end_station_number: string (nullable = true)\n",
      " |-- end_station: string (nullable = true)\n",
      " |-- bike_number: string (nullable = true)\n",
      " |-- member_type: string (nullable = true)\n",
      " |-- start_lat: string (nullable = true)\n",
      " |-- start_long: string (nullable = true)\n",
      " |-- end_lat: string (nullable = true)\n",
      " |-- end_long: string (nullable = true)\n",
      " |-- dist: double (nullable = true)\n",
      " |-- speed: double (nullable = true)\n",
      " |-- start_time: timestamp (nullable = true)\n",
      " |-- stop_time: timestamp (nullable = true)\n",
      " |-- day_of_week: integer (nullable = true)\n",
      " |-- minutes: double (nullable = true)\n",
      "\n"
     ]
    }
   ],
   "source": [
    "capital.printSchema()"
   ]
  },
  {
   "cell_type": "code",
   "execution_count": 25,
   "metadata": {},
   "outputs": [
    {
     "name": "stdout",
     "output_type": "stream",
     "text": [
      "+-----------+--------+\n",
      "|member_type|   count|\n",
      "+-----------+--------+\n",
      "|    Unknown|      54|\n",
      "|     Member|20292497|\n",
      "|     Casual| 5245528|\n",
      "+-----------+--------+\n",
      "\n"
     ]
    }
   ],
   "source": [
    "capital = capital.dropna()\n",
    "capital.groupBy('member_type').count().show()"
   ]
  },
  {
   "cell_type": "code",
   "execution_count": 24,
   "metadata": {},
   "outputs": [
    {
     "data": {
      "image/png": "[encoded data removed]",
      "text/plain": [
       "<Figure size 720x576 with 1 Axes>"
      ]
     },
     "metadata": {
      "needs_background": "light"
     },
     "output_type": "display_data"
    }
   ],
   "source": [
    "fig = plt.figure(figsize=(10, 8))\n",
    "index = ['Member', 'Casual']\n",
    "counts = [20292497,5245528]\n",
    "plt.bar(index,counts, color = 'red')\n",
    "plt.yticks(size = 20)\n",
    "plt.xticks(index, size = 20)\n",
    "plt.show()\n",
    "fig.savefig(\"CapitalMemberTypeOverview.png\", bbox_inches='tight')"
   ]
  },
  {
   "cell_type": "code",
   "execution_count": 31,
   "metadata": {},
   "outputs": [
    {
     "data": {
      "text/plain": [
       "True"
      ]
     },
     "execution_count": 31,
     "metadata": {},
     "output_type": "execute_result"
    }
   ],
   "source": [
    "capital=capital.withColumn(\"minutes\", capital.Duration/60)\n",
    "'minutes'in list(capital.columns)"
   ]
  },
  {
   "cell_type": "code",
   "execution_count": 47,
   "metadata": {},
   "outputs": [
    {
     "name": "stdout",
     "output_type": "stream",
     "text": [
      "+-------+------------------+\n",
      "|summary|           minutes|\n",
      "+-------+------------------+\n",
      "|   mean|18.334368543016367|\n",
      "+-------+------------------+\n",
      "\n"
     ]
    }
   ],
   "source": [
    "capital.select(\"minutes\").summary('mean').show()"
   ]
  },
  {
   "cell_type": "code",
   "execution_count": 32,
   "metadata": {},
   "outputs": [
    {
     "data": {
      "text/plain": [
       "<pyspark.sql.group.GroupedData at 0x7f591d0bdc10>"
      ]
     },
     "execution_count": 32,
     "metadata": {},
     "output_type": "execute_result"
    }
   ],
   "source": [
    "capitaltest1 = capital.groupby('member_type')\n",
    "capitaltest1"
   ]
  },
  {
   "cell_type": "code",
   "execution_count": 33,
   "metadata": {},
   "outputs": [
    {
     "name": "stdout",
     "output_type": "stream",
     "text": [
      "+-----------+------------------+\n",
      "|member_type|      avg(minutes)|\n",
      "+-----------+------------------+\n",
      "|    Unknown|12.939814814814813|\n",
      "|     Member|12.656261356106139|\n",
      "|     Casual| 40.30036784031397|\n",
      "+-----------+------------------+\n",
      "\n"
     ]
    }
   ],
   "source": [
    "avg_cols1 = ['minutes']\n",
    "capitaltest1.avg(*avg_cols1).show()"
   ]
  },
  {
   "cell_type": "code",
   "execution_count": 34,
   "metadata": {},
   "outputs": [
    {
     "data": {
      "image/png": "[encoded data removed]",
      "text/plain": [
       "<Figure size 720x576 with 1 Axes>"
      ]
     },
     "metadata": {
      "needs_background": "light"
     },
     "output_type": "display_data"
    }
   ],
   "source": [
    "fig = plt.figure(figsize=(10, 8))\n",
    "index = ['Member', 'Casual']\n",
    "counts = [12.656,40.300]\n",
    "plt.bar(index,counts, color = 'red')\n",
    "plt.yticks(size = 20)\n",
    "plt.xticks(index, size = 20)\n",
    "plt.show()\n",
    "fig.savefig(\"CapitalMembertypeMinutes.png\", bbox_inches='tight')"
   ]
  },
  {
   "cell_type": "code",
   "execution_count": 35,
   "metadata": {},
   "outputs": [
    {
     "name": "stdout",
     "output_type": "stream",
     "text": [
      "+-------+------------------+\n",
      "|summary|          Duration|\n",
      "+-------+------------------+\n",
      "|   mean|1100.0621125809814|\n",
      "+-------+------------------+\n",
      "\n"
     ]
    }
   ],
   "source": [
    "capital.select(\"Duration\").summary('mean').show()"
   ]
  },
  {
   "cell_type": "markdown",
   "metadata": {},
   "source": [
    "#Histogram of age column\n",
    "fig = plt.figure(figsize=(10, 8))\n",
    "bins, counts = capital.select('Duration').rdd.flatMap(lambda x: x).histogram(20)\n",
    "plt.hist(bins[:-1], bins=bins, weights=counts, color = '#263572')\n",
    "plt.xticks(size = 20)\n",
    "plt.yticks(size = 20)\n",
    "fig.savefig(\"NotNeeded2.png\", bbox_inches='tight')"
   ]
  },
  {
   "cell_type": "code",
   "execution_count": null,
   "metadata": {},
   "outputs": [],
   "source": []
  }
 ],
 "metadata": {
  "kernelspec": {
   "display_name": "Python 3",
   "language": "python",
   "name": "python3"
  },
  "language_info": {
   "codemirror_mode": {
    "name": "ipython",
    "version": 3
   },
   "file_extension": ".py",
   "mimetype": "text/x-python",
   "name": "python",
   "nbconvert_exporter": "python",
   "pygments_lexer": "ipython3",
   "version": "3.7.6"
  }
 },
 "nbformat": 4,
 "nbformat_minor": 4
}
